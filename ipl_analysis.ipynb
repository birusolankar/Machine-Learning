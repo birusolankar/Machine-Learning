{
  "nbformat": 4,
  "nbformat_minor": 0,
  "metadata": {
    "colab": {
      "provenance": [],
      "authorship_tag": "ABX9TyO1LeDQ4mA+XV1ceKqJswAv",
      "include_colab_link": true
    },
    "kernelspec": {
      "name": "python3",
      "display_name": "Python 3"
    },
    "language_info": {
      "name": "python"
    }
  },
  "cells": [
    {
      "cell_type": "markdown",
      "metadata": {
        "id": "view-in-github",
        "colab_type": "text"
      },
      "source": [
        "<a href=\"https://colab.research.google.com/github/birusolankar/Machine-Learning/blob/main/ipl_analysis.ipynb\" target=\"_parent\"><img src=\"https://colab.research.google.com/assets/colab-badge.svg\" alt=\"Open In Colab\"/></a>"
      ]
    },
    {
      "cell_type": "code",
      "execution_count": 1,
      "metadata": {
        "colab": {
          "base_uri": "https://localhost:8080/"
        },
        "id": "Q8nINj5TNQht",
        "outputId": "903a45e8-d58c-47d0-d2c9-79ca46174210"
      },
      "outputs": [
        {
          "output_type": "stream",
          "name": "stdout",
          "text": [
            "Collecting pyspark\n",
            "  Downloading pyspark-3.4.1.tar.gz (310.8 MB)\n",
            "\u001b[2K     \u001b[90m━━━━━━━━━━━━━━━━━━━━━━━━━━━━━━━━━━━━━━━\u001b[0m \u001b[32m310.8/310.8 MB\u001b[0m \u001b[31m4.5 MB/s\u001b[0m eta \u001b[36m0:00:00\u001b[0m\n",
            "\u001b[?25h  Preparing metadata (setup.py) ... \u001b[?25l\u001b[?25hdone\n",
            "Requirement already satisfied: py4j==0.10.9.7 in /usr/local/lib/python3.10/dist-packages (from pyspark) (0.10.9.7)\n",
            "Building wheels for collected packages: pyspark\n",
            "  Building wheel for pyspark (setup.py) ... \u001b[?25l\u001b[?25hdone\n",
            "  Created wheel for pyspark: filename=pyspark-3.4.1-py2.py3-none-any.whl size=311285387 sha256=bc6184426dbd9861d39ee543c9bed2f2cc6de716ba8720f499d67c7c378b67e6\n",
            "  Stored in directory: /root/.cache/pip/wheels/0d/77/a3/ff2f74cc9ab41f8f594dabf0579c2a7c6de920d584206e0834\n",
            "Successfully built pyspark\n",
            "Installing collected packages: pyspark\n",
            "Successfully installed pyspark-3.4.1\n"
          ]
        }
      ],
      "source": [
        "pip install pyspark"
      ]
    },
    {
      "cell_type": "code",
      "source": [
        "from pyspark.sql import SparkSession"
      ],
      "metadata": {
        "id": "MLV0Txwg5n3o"
      },
      "execution_count": 3,
      "outputs": []
    },
    {
      "cell_type": "code",
      "source": [
        "spark = SparkSession.builder.appName(\"ubutils\").getOrCreate()"
      ],
      "metadata": {
        "id": "kJhmgo6F59YQ"
      },
      "execution_count": 4,
      "outputs": []
    },
    {
      "cell_type": "code",
      "source": [
        "df = spark.read.csv(\"/content/deliveries.csv\", inferSchema = True, header = True)"
      ],
      "metadata": {
        "id": "TqLPnOYw72B0"
      },
      "execution_count": 8,
      "outputs": []
    },
    {
      "cell_type": "code",
      "source": [
        "df.show(10)"
      ],
      "metadata": {
        "colab": {
          "base_uri": "https://localhost:8080/"
        },
        "id": "QIIv_Q329UA8",
        "outputId": "299f0a8a-952a-4bb3-b159-8e709c1efc00"
      },
      "execution_count": 9,
      "outputs": [
        {
          "output_type": "stream",
          "name": "stdout",
          "text": [
            "+--------+------+-------------------+--------------------+----+----+---------+-----------+-----------+-------------+---------+--------+-----------+-----------+------------+------------+----------+----------+----------------+--------------+-------+\n",
            "|match_id|inning|       batting_team|        bowling_team|over|ball|  batsman|non_striker|     bowler|is_super_over|wide_runs|bye_runs|legbye_runs|noball_runs|penalty_runs|batsman_runs|extra_runs|total_runs|player_dismissed|dismissal_kind|fielder|\n",
            "+--------+------+-------------------+--------------------+----+----+---------+-----------+-----------+-------------+---------+--------+-----------+-----------+------------+------------+----------+----------+----------------+--------------+-------+\n",
            "|       1|     1|Sunrisers Hyderabad|Royal Challengers...|   1|   1|DA Warner|   S Dhawan|   TS Mills|            0|        0|       0|          0|          0|           0|           0|         0|         0|            null|          null|   null|\n",
            "|       1|     1|Sunrisers Hyderabad|Royal Challengers...|   1|   2|DA Warner|   S Dhawan|   TS Mills|            0|        0|       0|          0|          0|           0|           0|         0|         0|            null|          null|   null|\n",
            "|       1|     1|Sunrisers Hyderabad|Royal Challengers...|   1|   3|DA Warner|   S Dhawan|   TS Mills|            0|        0|       0|          0|          0|           0|           4|         0|         4|            null|          null|   null|\n",
            "|       1|     1|Sunrisers Hyderabad|Royal Challengers...|   1|   4|DA Warner|   S Dhawan|   TS Mills|            0|        0|       0|          0|          0|           0|           0|         0|         0|            null|          null|   null|\n",
            "|       1|     1|Sunrisers Hyderabad|Royal Challengers...|   1|   5|DA Warner|   S Dhawan|   TS Mills|            0|        2|       0|          0|          0|           0|           0|         2|         2|            null|          null|   null|\n",
            "|       1|     1|Sunrisers Hyderabad|Royal Challengers...|   1|   6| S Dhawan|  DA Warner|   TS Mills|            0|        0|       0|          0|          0|           0|           0|         0|         0|            null|          null|   null|\n",
            "|       1|     1|Sunrisers Hyderabad|Royal Challengers...|   1|   7| S Dhawan|  DA Warner|   TS Mills|            0|        0|       0|          1|          0|           0|           0|         1|         1|            null|          null|   null|\n",
            "|       1|     1|Sunrisers Hyderabad|Royal Challengers...|   2|   1| S Dhawan|  DA Warner|A Choudhary|            0|        0|       0|          0|          0|           0|           1|         0|         1|            null|          null|   null|\n",
            "|       1|     1|Sunrisers Hyderabad|Royal Challengers...|   2|   2|DA Warner|   S Dhawan|A Choudhary|            0|        0|       0|          0|          0|           0|           4|         0|         4|            null|          null|   null|\n",
            "|       1|     1|Sunrisers Hyderabad|Royal Challengers...|   2|   3|DA Warner|   S Dhawan|A Choudhary|            0|        0|       0|          0|          1|           0|           0|         1|         1|            null|          null|   null|\n",
            "+--------+------+-------------------+--------------------+----+----+---------+-----------+-----------+-------------+---------+--------+-----------+-----------+------------+------------+----------+----------+----------------+--------------+-------+\n",
            "only showing top 10 rows\n",
            "\n"
          ]
        }
      ]
    },
    {
      "cell_type": "code",
      "source": [
        "import pandas as pd\n",
        "import numpy as np"
      ],
      "metadata": {
        "id": "WPWoS_uJ9aCB"
      },
      "execution_count": 10,
      "outputs": []
    },
    {
      "cell_type": "code",
      "source": [
        "# reading ipl dataset\n",
        "ipl = pd.read_csv(\"/content/deliveries.csv\")\n"
      ],
      "metadata": {
        "id": "K6NniSkG9waV"
      },
      "execution_count": 24,
      "outputs": []
    },
    {
      "cell_type": "code",
      "source": [
        "# finding the batsman names\n",
        "ipl['batsman'].unique()"
      ],
      "metadata": {
        "colab": {
          "base_uri": "https://localhost:8080/"
        },
        "id": "pQlr-9GW_b9I",
        "outputId": "9ca91ca2-f089-4c83-ee91-8c3640e0ef16"
      },
      "execution_count": 28,
      "outputs": [
        {
          "output_type": "execute_result",
          "data": {
            "text/plain": [
              "array(['DA Warner', 'S Dhawan', 'MC Henriques', 'Yuvraj Singh',\n",
              "       'DJ Hooda', 'BCJ Cutting', 'CH Gayle', 'Mandeep Singh', 'TM Head',\n",
              "       'KM Jadhav', 'SR Watson', 'Sachin Baby', 'STR Binny', 'S Aravind',\n",
              "       'YS Chahal', 'TS Mills', 'A Choudhary', 'PA Patel', 'JC Buttler',\n",
              "       'RG Sharma', 'N Rana', 'AT Rayudu', 'KH Pandya', 'KA Pollard',\n",
              "       'HH Pandya', 'TG Southee', 'AM Rahane', 'MA Agarwal', 'SPD Smith',\n",
              "       'BA Stokes', 'MS Dhoni', 'JJ Roy', 'BB McCullum', 'SK Raina',\n",
              "       'AJ Finch', 'KD Karthik', 'G Gambhir', 'CA Lynn', 'MK Tiwary',\n",
              "       'DT Christian', 'HM Amla', 'M Vohra', 'WP Saha', 'AR Patel',\n",
              "       'GJ Maxwell', 'DA Miller', 'Vishnu Vinod', 'Iqbal Abdulla',\n",
              "       'P Negi', 'AP Tare', 'SW Billings', 'KK Nair', 'SV Samson',\n",
              "       'RR Pant', 'CH Morris', 'CR Brathwaite', 'PJ Cummins', 'A Mishra',\n",
              "       'S Nadeem', 'Z Khan', 'DR Smith', 'DS Kulkarni', 'P Kumar',\n",
              "       'Basil Thampi', 'RV Uthappa', 'MK Pandey', 'YK Pathan', 'SA Yadav',\n",
              "       'CR Woakes', 'SP Narine', 'Harbhajan Singh', 'AB de Villiers',\n",
              "       'CJ Anderson', 'F du Plessis', 'RA Tripathi', 'R Bhatia',\n",
              "       'DL Chahar', 'A Zampa', 'AB Dinda', 'Imran Tahir', 'NV Ojha',\n",
              "       'V Shankar', 'Rashid Khan', 'B Kumar', 'MP Stoinis', 'MM Sharma',\n",
              "       'VR Aaron', 'V Kohli', 'MJ McClenaghan', 'Ankit Sharma',\n",
              "       'SN Thakur', 'RD Chahar', 'LH Ferguson', 'C de Grandhomme',\n",
              "       'Bipul Sharma', 'SS Iyer', 'EJG Morgan', 'KC Cariappa',\n",
              "       'Sandeep Sharma', 'Ishan Kishan', 'JD Unadkat', 'AF Milne',\n",
              "       'S Badree', 'AD Mathews', 'Mohammed Shami', 'Mohammad Nabi',\n",
              "       'I Sharma', 'RA Jadeja', 'AJ Tye', 'KS Williamson', 'SE Marsh',\n",
              "       'Shakib Al Hasan', 'JP Faulkner', 'MG Johnson', 'K Rabada',\n",
              "       'AD Nath', 'NM Coulter-Nile', 'Kuldeep Yadav', 'UT Yadav',\n",
              "       'Washington Sundar', 'KV Sharma', 'DM Bravo', 'AR Bawne',\n",
              "       'SP Jackson', 'MJ Guptill', 'Anureet Singh', 'IK Pathan',\n",
              "       'Ankit Soni', 'JJ Bumrah', 'SL Malinga', 'PJ Sangwan', 'S Kaul',\n",
              "       'LMP Simmons', 'MN Samuels', 'Swapnil Singh', 'R Tewatia',\n",
              "       'MM Patel', 'SS Tiwary', 'TA Boult', 'CJ Jordan', 'IR Jaggi',\n",
              "       'PP Chawla', 'AS Rajpoot', 'SC Ganguly', 'RT Ponting', 'DJ Hussey',\n",
              "       'Mohammad Hafeez', 'R Dravid', 'W Jaffer', 'JH Kallis', 'CL White',\n",
              "       'MV Boucher', 'B Akhil', 'AA Noffke', 'SB Joshi', 'ML Hayden',\n",
              "       'MEK Hussey', 'JDP Oram', 'S Badrinath', 'K Goel', 'JR Hopes',\n",
              "       'KC Sangakkara', 'SM Katich', 'T Kohli', 'M Kaif', 'DS Lehmann',\n",
              "       'M Rawat', 'D Salunkhe', 'SK Warne', 'SK Trivedi', 'V Sehwag',\n",
              "       'L Ronchi', 'ST Jayasuriya', 'DJ Thornely', 'PR Shah', 'AM Nayar',\n",
              "       'SM Pollock', 'S Chanderpaul', 'LRPL Taylor', 'AC Gilchrist',\n",
              "       'Y Venugopal Rao', 'VVS Laxman', 'A Symonds', 'SB Styris',\n",
              "       'AS Yadav', 'SB Bangar', 'WPUJC Vaas', 'RP Singh', 'LR Shukla',\n",
              "       'DPMD Jayawardene', 'S Sohal', 'B Lee', 'WA Mota', 'Kamran Akmal',\n",
              "       'Shahid Afridi', 'DJ Bravo', 'MA Khote', 'A Nehra', 'GC Smith',\n",
              "       'Pankaj Singh', 'RR Sarwan', 'S Sreesanth', 'VRV Singh',\n",
              "       'R Vinay Kumar', 'AB Agarkar', 'M Kartik', 'Shoaib Malik',\n",
              "       'MF Maharoof', 'VY Mahesh', 'TM Srivastava', 'B Chipli',\n",
              "       'DW Steyn', 'DB Das', 'HH Gibbs', 'DNT Zoysa', 'D Kalyankrishna',\n",
              "       'SA Asnodkar', 'Sohail Tanvir', 'Salman Butt', 'BJ Hodge',\n",
              "       'Umar Gul', 'SP Fleming', 'S Vidyut', 'JA Morkel', 'LPC Silva',\n",
              "       'DB Ravi Teja', 'Misbah-ul-Haq', 'YV Takawale', 'RR Raje',\n",
              "       'Mohammad Asif', 'GD McGrath', 'Joginder Sharma', 'MS Gony',\n",
              "       'M Muralitharan', 'M Ntini', 'DT Patil', 'A Kumble', 'S Anirudha',\n",
              "       'CK Kapugedera', 'A Chopra', 'T Taibu', 'J Arunkumar', 'PP Ojha',\n",
              "       'SP Goswami', 'SR Tendulkar', 'U Kaul', 'TM Dilshan',\n",
              "       'AD Mascarenhas', 'Niraj Patel', 'LA Pomersbach', 'Younis Khan',\n",
              "       'PM Sarvesh Kumar', 'DP Vijaykumar', 'Shoaib Akhtar',\n",
              "       'Abdur Razzak', 'H Das', 'SD Chitnis', 'CRD Fernando',\n",
              "       'VS Yeligati', 'L Balaji', 'A Mukund', 'RR Powar', 'JP Duminy',\n",
              "       'A Flintoff', 'T Thushara', 'JD Ryder', 'KP Pietersen',\n",
              "       'T Henderson', 'Kamran Khan', 'RS Bopara', 'R Bishnoi',\n",
              "       'FH Edwards', 'PC Valthaty', 'RJ Quiney', 'AS Raut',\n",
              "       'Yashpal Singh', 'M Manhas', 'AA Bilakhia', 'AN Ghosh',\n",
              "       'BAW Mendis', 'DL Vettori', 'MN van Wyk', 'RE van der Merwe',\n",
              "       'TL Suman', 'Shoaib Ahmed', 'GR Napier', 'KP Appanna',\n",
              "       'LA Carseldine', 'SM Harwood', 'M Vijay', 'SB Jakati', 'RJ Harris',\n",
              "       'D du Preez', 'M Morkel', 'J Botha', 'C Nanda', 'Mashrafe Mortaza',\n",
              "       'A Singh', 'GJ Bailey', 'AB McDonald', 'Y Nagar', 'SS Shaikh',\n",
              "       'R Ashwin', 'Mohammad Ashraful', 'CA Pujara', 'OA Shah',\n",
              "       'Anirudh Singh', 'Jaskaran Singh', 'R Sathish', 'R McLaren',\n",
              "       'AA Jhunjhunwala', 'P Dogra', 'A Uniyal', 'MS Bisla', 'YA Abdulla',\n",
              "       'JM Kemp', 'S Tyagi', 'RS Gavaskar', 'SE Bond', 'S Ladda',\n",
              "       'DP Nannes', 'MJ Lumb', 'DR Martyn', 'S Narwal', 'AB Barath',\n",
              "       'FY Fazal', 'AC Voges', 'MD Mishra', 'J Theron', 'SJ Srivastava',\n",
              "       'R Sharma', 'SW Tait', 'KB Arun Karthik', 'KAJ Roach',\n",
              "       'PD Collingwood', 'CK Langeveldt', 'VS Malik', 'A Mithun',\n",
              "       'AP Dole', 'AN Ahmed', 'RS Sodhi', 'DE Bollinger', 'S Sriram',\n",
              "       'B Sumanth', 'C Madan', 'AG Paunikar', 'MR Marsh', 'Harmeet Singh',\n",
              "       'RV Gomez', 'AUK Pathan', 'UBT Chand', 'DJ Jacobs', 'Sunny Singh',\n",
              "       'NJ Rimmington', 'AL Menaria', 'WD Parnell', 'JJ van der Wath',\n",
              "       'R Ninan', 'MS Wade', 'TD Paine', 'SB Wagh', 'AC Thomas',\n",
              "       'JEC Franklin', 'DH Yagnik', 'S Randiv', 'BJ Haddin',\n",
              "       'NLTC Perera', 'NL McCullum', 'JE Taylor', 'J Syed Mohammad',\n",
              "       'RN ten Doeschate', 'TR Birt', 'AG Murtaza', 'Harpreet Singh',\n",
              "       'M Klinger', 'AC Blizzard', 'I Malhotra', 'L Ablish', 'CA Ingram',\n",
              "       'P Parameswaran', 'CJ Ferguson', 'AA Chavan', 'ND Doshi',\n",
              "       'Y Gnaneswara Rao', 'S Rana', 'BA Bhatt', 'RE Levi', 'KK Cooper',\n",
              "       'HV Patel', 'DAJ Bracewell', 'DJ Harris', 'GB Hogg', 'RR Bhatkal',\n",
              "       'CJ McKay', 'N Saini', 'Azhar Mahmood', 'RJ Peterson',\n",
              "       'KMDN Kulasekara', 'A Ashish Reddy', 'V Pratap Singh',\n",
              "       'BB Samantray', 'MJ Clarke', 'Gurkeerat Singh', 'AP Majumdar',\n",
              "       'PA Reddy', 'K Upadhyay', 'P Awana', 'AD Russell', 'A Chandila',\n",
              "       'Sunny Gupta', 'MC Juneja', 'GH Vihari', 'MDKJ Perera', 'R Shukla',\n",
              "       'B Laughlin', 'BMAJ Mendis', 'R Rampaul', 'SMSM Senanayake',\n",
              "       'BJ Rohrer', 'KL Rahul', 'Q de Kock', 'R Dhawan', 'LJ Wright',\n",
              "       'IC Pandey', 'CM Gautam', 'X Thalaivan Sargunam', 'DJG Sammy',\n",
              "       'KW Richardson', 'UA Birla', 'Parvez Rasool', 'PV Tambe',\n",
              "       'NJ Maddinson', 'JDS Neesham', 'MA Starc', 'BR Dunk', 'RR Rossouw',\n",
              "       'Shivam Sharma', 'VH Zol', 'BE Hendricks', 'S Gopal', 'M de Lange',\n",
              "       'JO Holder', 'Karanveer Singh', 'SA Abbott', 'J Suchith',\n",
              "       'RG More', 'D Wiese', 'SN Khan', 'DJ Muthuswami', 'C Munro',\n",
              "       'P Sahu', 'KJ Abbott', 'M Ashwin', 'NS Naik', 'PSP Handscomb',\n",
              "       'J Yadav', 'UT Khawaja', 'F Behardien', 'BB Sran', 'S Kaushik',\n",
              "       'ER Dwivedi', 'E Lewis', 'M Wood', 'R Singh', 'D Short',\n",
              "       'K Gowtham', 'T Curran', 'M Markande', 'B Stanlake', 'M Ur Rahman',\n",
              "       'A Dananjaya', 'S Gill', 'S Mavi', 'Mohammed Siraj', 'H Klaasen',\n",
              "       'R Bhui', 'J Archer', 'P Shaw', 'L Plunkett', 'Mustafizur Rahman',\n",
              "       'A Hales', 'M Lomror', 'D Shorey', 'M Ali', 'P Krishna',\n",
              "       'P Chopra', 'J Searles', 'I Sodhi', 'S Hetmyer', 'S Dube',\n",
              "       'J Bairstow', 'C Ingram', 'K Paul', 'R Salam', 'N Pooran',\n",
              "       'N Naik', 'H Vihari', 'P R Barman', 'S Curran', 'H Viljoen',\n",
              "       'Avesh Khan', 'S Lamichhane', 'S Sharma', 'H Gurney', 'SD Lad',\n",
              "       'A Joseph', 'R Parag', 'M Santner', 'J Denly', 'L Livingstone',\n",
              "       'K Ahmed', 'A Turner', 'H Brar', 'S Rutherford', 'P Raj',\n",
              "       'S Singh'], dtype=object)"
            ]
          },
          "metadata": {},
          "execution_count": 28
        }
      ]
    },
    {
      "cell_type": "code",
      "source": [
        "# finding the records of the Rohit Sharma for analysis\n",
        "sharma = ipl[ipl['batsman'] == 'RG Sharma']\n",
        "print(sharma.shape)\n",
        "sharma.head()"
      ],
      "metadata": {
        "colab": {
          "base_uri": "https://localhost:8080/",
          "height": 359
        },
        "id": "_enKx2hp91yG",
        "outputId": "35389f24-67ba-4cd9-927b-36000eeca453"
      },
      "execution_count": 42,
      "outputs": [
        {
          "output_type": "stream",
          "name": "stdout",
          "text": [
            "(3816, 21)\n"
          ]
        },
        {
          "output_type": "execute_result",
          "data": {
            "text/plain": [
              "     match_id  inning    batting_team            bowling_team  over  ball  \\\n",
              "275         2       1  Mumbai Indians  Rising Pune Supergiant     5     3   \n",
              "276         2       1  Mumbai Indians  Rising Pune Supergiant     5     4   \n",
              "278         2       1  Mumbai Indians  Rising Pune Supergiant     5     6   \n",
              "279         2       1  Mumbai Indians  Rising Pune Supergiant     6     1   \n",
              "285         2       1  Mumbai Indians  Rising Pune Supergiant     7     1   \n",
              "\n",
              "       batsman non_striker       bowler  is_super_over  ...  bye_runs  \\\n",
              "275  RG Sharma  JC Buttler  Imran Tahir              0  ...         0   \n",
              "276  RG Sharma  JC Buttler  Imran Tahir              0  ...         0   \n",
              "278  RG Sharma  JC Buttler  Imran Tahir              0  ...         0   \n",
              "279  RG Sharma  JC Buttler    DL Chahar              0  ...         0   \n",
              "285  RG Sharma  JC Buttler  Imran Tahir              0  ...         0   \n",
              "\n",
              "     legbye_runs  noball_runs  penalty_runs  batsman_runs  extra_runs  \\\n",
              "275            0            0             0             0           0   \n",
              "276            0            0             0             1           0   \n",
              "278            0            0             0             1           0   \n",
              "279            0            0             0             1           0   \n",
              "285            0            0             0             0           0   \n",
              "\n",
              "     total_runs  player_dismissed dismissal_kind fielder  \n",
              "275           0               NaN            NaN     NaN  \n",
              "276           1               NaN            NaN     NaN  \n",
              "278           1               NaN            NaN     NaN  \n",
              "279           1               NaN            NaN     NaN  \n",
              "285           0               NaN            NaN     NaN  \n",
              "\n",
              "[5 rows x 21 columns]"
            ],
            "text/html": [
              "\n",
              "  <div id=\"df-cd1df593-40bd-477c-96d2-ad550b1e9d4f\" class=\"colab-df-container\">\n",
              "    <div>\n",
              "<style scoped>\n",
              "    .dataframe tbody tr th:only-of-type {\n",
              "        vertical-align: middle;\n",
              "    }\n",
              "\n",
              "    .dataframe tbody tr th {\n",
              "        vertical-align: top;\n",
              "    }\n",
              "\n",
              "    .dataframe thead th {\n",
              "        text-align: right;\n",
              "    }\n",
              "</style>\n",
              "<table border=\"1\" class=\"dataframe\">\n",
              "  <thead>\n",
              "    <tr style=\"text-align: right;\">\n",
              "      <th></th>\n",
              "      <th>match_id</th>\n",
              "      <th>inning</th>\n",
              "      <th>batting_team</th>\n",
              "      <th>bowling_team</th>\n",
              "      <th>over</th>\n",
              "      <th>ball</th>\n",
              "      <th>batsman</th>\n",
              "      <th>non_striker</th>\n",
              "      <th>bowler</th>\n",
              "      <th>is_super_over</th>\n",
              "      <th>...</th>\n",
              "      <th>bye_runs</th>\n",
              "      <th>legbye_runs</th>\n",
              "      <th>noball_runs</th>\n",
              "      <th>penalty_runs</th>\n",
              "      <th>batsman_runs</th>\n",
              "      <th>extra_runs</th>\n",
              "      <th>total_runs</th>\n",
              "      <th>player_dismissed</th>\n",
              "      <th>dismissal_kind</th>\n",
              "      <th>fielder</th>\n",
              "    </tr>\n",
              "  </thead>\n",
              "  <tbody>\n",
              "    <tr>\n",
              "      <th>275</th>\n",
              "      <td>2</td>\n",
              "      <td>1</td>\n",
              "      <td>Mumbai Indians</td>\n",
              "      <td>Rising Pune Supergiant</td>\n",
              "      <td>5</td>\n",
              "      <td>3</td>\n",
              "      <td>RG Sharma</td>\n",
              "      <td>JC Buttler</td>\n",
              "      <td>Imran Tahir</td>\n",
              "      <td>0</td>\n",
              "      <td>...</td>\n",
              "      <td>0</td>\n",
              "      <td>0</td>\n",
              "      <td>0</td>\n",
              "      <td>0</td>\n",
              "      <td>0</td>\n",
              "      <td>0</td>\n",
              "      <td>0</td>\n",
              "      <td>NaN</td>\n",
              "      <td>NaN</td>\n",
              "      <td>NaN</td>\n",
              "    </tr>\n",
              "    <tr>\n",
              "      <th>276</th>\n",
              "      <td>2</td>\n",
              "      <td>1</td>\n",
              "      <td>Mumbai Indians</td>\n",
              "      <td>Rising Pune Supergiant</td>\n",
              "      <td>5</td>\n",
              "      <td>4</td>\n",
              "      <td>RG Sharma</td>\n",
              "      <td>JC Buttler</td>\n",
              "      <td>Imran Tahir</td>\n",
              "      <td>0</td>\n",
              "      <td>...</td>\n",
              "      <td>0</td>\n",
              "      <td>0</td>\n",
              "      <td>0</td>\n",
              "      <td>0</td>\n",
              "      <td>1</td>\n",
              "      <td>0</td>\n",
              "      <td>1</td>\n",
              "      <td>NaN</td>\n",
              "      <td>NaN</td>\n",
              "      <td>NaN</td>\n",
              "    </tr>\n",
              "    <tr>\n",
              "      <th>278</th>\n",
              "      <td>2</td>\n",
              "      <td>1</td>\n",
              "      <td>Mumbai Indians</td>\n",
              "      <td>Rising Pune Supergiant</td>\n",
              "      <td>5</td>\n",
              "      <td>6</td>\n",
              "      <td>RG Sharma</td>\n",
              "      <td>JC Buttler</td>\n",
              "      <td>Imran Tahir</td>\n",
              "      <td>0</td>\n",
              "      <td>...</td>\n",
              "      <td>0</td>\n",
              "      <td>0</td>\n",
              "      <td>0</td>\n",
              "      <td>0</td>\n",
              "      <td>1</td>\n",
              "      <td>0</td>\n",
              "      <td>1</td>\n",
              "      <td>NaN</td>\n",
              "      <td>NaN</td>\n",
              "      <td>NaN</td>\n",
              "    </tr>\n",
              "    <tr>\n",
              "      <th>279</th>\n",
              "      <td>2</td>\n",
              "      <td>1</td>\n",
              "      <td>Mumbai Indians</td>\n",
              "      <td>Rising Pune Supergiant</td>\n",
              "      <td>6</td>\n",
              "      <td>1</td>\n",
              "      <td>RG Sharma</td>\n",
              "      <td>JC Buttler</td>\n",
              "      <td>DL Chahar</td>\n",
              "      <td>0</td>\n",
              "      <td>...</td>\n",
              "      <td>0</td>\n",
              "      <td>0</td>\n",
              "      <td>0</td>\n",
              "      <td>0</td>\n",
              "      <td>1</td>\n",
              "      <td>0</td>\n",
              "      <td>1</td>\n",
              "      <td>NaN</td>\n",
              "      <td>NaN</td>\n",
              "      <td>NaN</td>\n",
              "    </tr>\n",
              "    <tr>\n",
              "      <th>285</th>\n",
              "      <td>2</td>\n",
              "      <td>1</td>\n",
              "      <td>Mumbai Indians</td>\n",
              "      <td>Rising Pune Supergiant</td>\n",
              "      <td>7</td>\n",
              "      <td>1</td>\n",
              "      <td>RG Sharma</td>\n",
              "      <td>JC Buttler</td>\n",
              "      <td>Imran Tahir</td>\n",
              "      <td>0</td>\n",
              "      <td>...</td>\n",
              "      <td>0</td>\n",
              "      <td>0</td>\n",
              "      <td>0</td>\n",
              "      <td>0</td>\n",
              "      <td>0</td>\n",
              "      <td>0</td>\n",
              "      <td>0</td>\n",
              "      <td>NaN</td>\n",
              "      <td>NaN</td>\n",
              "      <td>NaN</td>\n",
              "    </tr>\n",
              "  </tbody>\n",
              "</table>\n",
              "<p>5 rows × 21 columns</p>\n",
              "</div>\n",
              "    <div class=\"colab-df-buttons\">\n",
              "\n",
              "  <div class=\"colab-df-container\">\n",
              "    <button class=\"colab-df-convert\" onclick=\"convertToInteractive('df-cd1df593-40bd-477c-96d2-ad550b1e9d4f')\"\n",
              "            title=\"Convert this dataframe to an interactive table.\"\n",
              "            style=\"display:none;\">\n",
              "\n",
              "  <svg xmlns=\"http://www.w3.org/2000/svg\" height=\"24px\" viewBox=\"0 -960 960 960\">\n",
              "    <path d=\"M120-120v-720h720v720H120Zm60-500h600v-160H180v160Zm220 220h160v-160H400v160Zm0 220h160v-160H400v160ZM180-400h160v-160H180v160Zm440 0h160v-160H620v160ZM180-180h160v-160H180v160Zm440 0h160v-160H620v160Z\"/>\n",
              "  </svg>\n",
              "    </button>\n",
              "\n",
              "  <style>\n",
              "    .colab-df-container {\n",
              "      display:flex;\n",
              "      gap: 12px;\n",
              "    }\n",
              "\n",
              "    .colab-df-convert {\n",
              "      background-color: #E8F0FE;\n",
              "      border: none;\n",
              "      border-radius: 50%;\n",
              "      cursor: pointer;\n",
              "      display: none;\n",
              "      fill: #1967D2;\n",
              "      height: 32px;\n",
              "      padding: 0 0 0 0;\n",
              "      width: 32px;\n",
              "    }\n",
              "\n",
              "    .colab-df-convert:hover {\n",
              "      background-color: #E2EBFA;\n",
              "      box-shadow: 0px 1px 2px rgba(60, 64, 67, 0.3), 0px 1px 3px 1px rgba(60, 64, 67, 0.15);\n",
              "      fill: #174EA6;\n",
              "    }\n",
              "\n",
              "    .colab-df-buttons div {\n",
              "      margin-bottom: 4px;\n",
              "    }\n",
              "\n",
              "    [theme=dark] .colab-df-convert {\n",
              "      background-color: #3B4455;\n",
              "      fill: #D2E3FC;\n",
              "    }\n",
              "\n",
              "    [theme=dark] .colab-df-convert:hover {\n",
              "      background-color: #434B5C;\n",
              "      box-shadow: 0px 1px 3px 1px rgba(0, 0, 0, 0.15);\n",
              "      filter: drop-shadow(0px 1px 2px rgba(0, 0, 0, 0.3));\n",
              "      fill: #FFFFFF;\n",
              "    }\n",
              "  </style>\n",
              "\n",
              "    <script>\n",
              "      const buttonEl =\n",
              "        document.querySelector('#df-cd1df593-40bd-477c-96d2-ad550b1e9d4f button.colab-df-convert');\n",
              "      buttonEl.style.display =\n",
              "        google.colab.kernel.accessAllowed ? 'block' : 'none';\n",
              "\n",
              "      async function convertToInteractive(key) {\n",
              "        const element = document.querySelector('#df-cd1df593-40bd-477c-96d2-ad550b1e9d4f');\n",
              "        const dataTable =\n",
              "          await google.colab.kernel.invokeFunction('convertToInteractive',\n",
              "                                                    [key], {});\n",
              "        if (!dataTable) return;\n",
              "\n",
              "        const docLinkHtml = 'Like what you see? Visit the ' +\n",
              "          '<a target=\"_blank\" href=https://colab.research.google.com/notebooks/data_table.ipynb>data table notebook</a>'\n",
              "          + ' to learn more about interactive tables.';\n",
              "        element.innerHTML = '';\n",
              "        dataTable['output_type'] = 'display_data';\n",
              "        await google.colab.output.renderOutput(dataTable, element);\n",
              "        const docLink = document.createElement('div');\n",
              "        docLink.innerHTML = docLinkHtml;\n",
              "        element.appendChild(docLink);\n",
              "      }\n",
              "    </script>\n",
              "  </div>\n",
              "\n",
              "\n",
              "<div id=\"df-d640c935-0134-4c3c-bb21-7cbe70942e48\">\n",
              "  <button class=\"colab-df-quickchart\" onclick=\"quickchart('df-d640c935-0134-4c3c-bb21-7cbe70942e48')\"\n",
              "            title=\"Suggest charts.\"\n",
              "            style=\"display:none;\">\n",
              "\n",
              "<svg xmlns=\"http://www.w3.org/2000/svg\" height=\"24px\"viewBox=\"0 0 24 24\"\n",
              "     width=\"24px\">\n",
              "    <g>\n",
              "        <path d=\"M19 3H5c-1.1 0-2 .9-2 2v14c0 1.1.9 2 2 2h14c1.1 0 2-.9 2-2V5c0-1.1-.9-2-2-2zM9 17H7v-7h2v7zm4 0h-2V7h2v10zm4 0h-2v-4h2v4z\"/>\n",
              "    </g>\n",
              "</svg>\n",
              "  </button>\n",
              "\n",
              "<style>\n",
              "  .colab-df-quickchart {\n",
              "      --bg-color: #E8F0FE;\n",
              "      --fill-color: #1967D2;\n",
              "      --hover-bg-color: #E2EBFA;\n",
              "      --hover-fill-color: #174EA6;\n",
              "      --disabled-fill-color: #AAA;\n",
              "      --disabled-bg-color: #DDD;\n",
              "  }\n",
              "\n",
              "  [theme=dark] .colab-df-quickchart {\n",
              "      --bg-color: #3B4455;\n",
              "      --fill-color: #D2E3FC;\n",
              "      --hover-bg-color: #434B5C;\n",
              "      --hover-fill-color: #FFFFFF;\n",
              "      --disabled-bg-color: #3B4455;\n",
              "      --disabled-fill-color: #666;\n",
              "  }\n",
              "\n",
              "  .colab-df-quickchart {\n",
              "    background-color: var(--bg-color);\n",
              "    border: none;\n",
              "    border-radius: 50%;\n",
              "    cursor: pointer;\n",
              "    display: none;\n",
              "    fill: var(--fill-color);\n",
              "    height: 32px;\n",
              "    padding: 0;\n",
              "    width: 32px;\n",
              "  }\n",
              "\n",
              "  .colab-df-quickchart:hover {\n",
              "    background-color: var(--hover-bg-color);\n",
              "    box-shadow: 0 1px 2px rgba(60, 64, 67, 0.3), 0 1px 3px 1px rgba(60, 64, 67, 0.15);\n",
              "    fill: var(--button-hover-fill-color);\n",
              "  }\n",
              "\n",
              "  .colab-df-quickchart-complete:disabled,\n",
              "  .colab-df-quickchart-complete:disabled:hover {\n",
              "    background-color: var(--disabled-bg-color);\n",
              "    fill: var(--disabled-fill-color);\n",
              "    box-shadow: none;\n",
              "  }\n",
              "\n",
              "  .colab-df-spinner {\n",
              "    border: 2px solid var(--fill-color);\n",
              "    border-color: transparent;\n",
              "    border-bottom-color: var(--fill-color);\n",
              "    animation:\n",
              "      spin 1s steps(1) infinite;\n",
              "  }\n",
              "\n",
              "  @keyframes spin {\n",
              "    0% {\n",
              "      border-color: transparent;\n",
              "      border-bottom-color: var(--fill-color);\n",
              "      border-left-color: var(--fill-color);\n",
              "    }\n",
              "    20% {\n",
              "      border-color: transparent;\n",
              "      border-left-color: var(--fill-color);\n",
              "      border-top-color: var(--fill-color);\n",
              "    }\n",
              "    30% {\n",
              "      border-color: transparent;\n",
              "      border-left-color: var(--fill-color);\n",
              "      border-top-color: var(--fill-color);\n",
              "      border-right-color: var(--fill-color);\n",
              "    }\n",
              "    40% {\n",
              "      border-color: transparent;\n",
              "      border-right-color: var(--fill-color);\n",
              "      border-top-color: var(--fill-color);\n",
              "    }\n",
              "    60% {\n",
              "      border-color: transparent;\n",
              "      border-right-color: var(--fill-color);\n",
              "    }\n",
              "    80% {\n",
              "      border-color: transparent;\n",
              "      border-right-color: var(--fill-color);\n",
              "      border-bottom-color: var(--fill-color);\n",
              "    }\n",
              "    90% {\n",
              "      border-color: transparent;\n",
              "      border-bottom-color: var(--fill-color);\n",
              "    }\n",
              "  }\n",
              "</style>\n",
              "\n",
              "  <script>\n",
              "    async function quickchart(key) {\n",
              "      const quickchartButtonEl =\n",
              "        document.querySelector('#' + key + ' button');\n",
              "      quickchartButtonEl.disabled = true;  // To prevent multiple clicks.\n",
              "      quickchartButtonEl.classList.add('colab-df-spinner');\n",
              "      try {\n",
              "        const charts = await google.colab.kernel.invokeFunction(\n",
              "            'suggestCharts', [key], {});\n",
              "      } catch (error) {\n",
              "        console.error('Error during call to suggestCharts:', error);\n",
              "      }\n",
              "      quickchartButtonEl.classList.remove('colab-df-spinner');\n",
              "      quickchartButtonEl.classList.add('colab-df-quickchart-complete');\n",
              "    }\n",
              "    (() => {\n",
              "      let quickchartButtonEl =\n",
              "        document.querySelector('#df-d640c935-0134-4c3c-bb21-7cbe70942e48 button');\n",
              "      quickchartButtonEl.style.display =\n",
              "        google.colab.kernel.accessAllowed ? 'block' : 'none';\n",
              "    })();\n",
              "  </script>\n",
              "</div>\n",
              "    </div>\n",
              "  </div>\n"
            ]
          },
          "metadata": {},
          "execution_count": 42
        }
      ]
    },
    {
      "cell_type": "code",
      "source": [
        "# fidning the highest runs of the Sharma\n",
        "sharma.groupby(\"match_id\")['batsman_runs'].sum().sort_values(ascending = False).head(1)"
      ],
      "metadata": {
        "colab": {
          "base_uri": "https://localhost:8080/"
        },
        "id": "FliZmRr-93AE",
        "outputId": "a18db19b-89a1-47b9-e33a-962bafd9e129"
      },
      "execution_count": 40,
      "outputs": [
        {
          "output_type": "execute_result",
          "data": {
            "text/plain": [
              "match_id\n",
              "363    109\n",
              "Name: batsman_runs, dtype: int64"
            ]
          },
          "metadata": {},
          "execution_count": 40
        }
      ]
    },
    {
      "cell_type": "code",
      "source": [
        "sharma.groupby(\"match_id\")['batsman_runs'].sum().sort_values(ascending = False).head(10)"
      ],
      "metadata": {
        "colab": {
          "base_uri": "https://localhost:8080/"
        },
        "id": "ApFQPrXX-WvT",
        "outputId": "dbd44bd0-704c-40fc-92d0-41c0081c9bea"
      },
      "execution_count": 41,
      "outputs": [
        {
          "output_type": "execute_result",
          "data": {
            "text/plain": [
              "match_id\n",
              "363     109\n",
              "518      98\n",
              "7907     97\n",
              "257      87\n",
              "605      85\n",
              "581      84\n",
              "421      79\n",
              "77       76\n",
              "390      74\n",
              "408      73\n",
              "Name: batsman_runs, dtype: int64"
            ]
          },
          "metadata": {},
          "execution_count": 41
        }
      ]
    },
    {
      "cell_type": "code",
      "source": [
        "# creating a function to calculate the highest score of the player\n",
        "\n",
        "def highest_score(batsman):\n",
        "  temp_df = ipl[ipl['batsman'] == batsman]\n",
        "  return temp_df.groupby(\"match_id\")['batsman_runs'].sum().sort_values(ascending = False).head(1)"
      ],
      "metadata": {
        "id": "_xof3T97A2EY"
      },
      "execution_count": 43,
      "outputs": []
    },
    {
      "cell_type": "code",
      "source": [
        "highest_score('S Dhawan')"
      ],
      "metadata": {
        "colab": {
          "base_uri": "https://localhost:8080/"
        },
        "id": "ALh_YRd8CMRi",
        "outputId": "9da49df2-5816-4a04-de1b-f54e4aaf713a"
      },
      "execution_count": 53,
      "outputs": [
        {
          "output_type": "execute_result",
          "data": {
            "text/plain": [
              "match_id\n",
              "11317    98\n",
              "Name: batsman_runs, dtype: int64"
            ]
          },
          "metadata": {},
          "execution_count": 53
        }
      ]
    },
    {
      "cell_type": "code",
      "source": [
        "sharma = ipl[ipl['batsman'] == 'RG Sharma']\n",
        "sharma.groupby(\"bowling_team\")['batsman_runs'].sum()"
      ],
      "metadata": {
        "colab": {
          "base_uri": "https://localhost:8080/"
        },
        "id": "bwHxbSq6E_Ys",
        "outputId": "c4333389-4b93-4c9d-82f4-38f3e02ad239"
      },
      "execution_count": 58,
      "outputs": [
        {
          "output_type": "execute_result",
          "data": {
            "text/plain": [
              "bowling_team\n",
              "Chennai Super Kings            710\n",
              "Deccan Chargers                175\n",
              "Delhi Capitals                  45\n",
              "Delhi Daredevils               703\n",
              "Gujarat Lions                   82\n",
              "Kings XI Punjab                590\n",
              "Kolkata Knight Riders          827\n",
              "Mumbai Indians                 103\n",
              "Pune Warriors                  135\n",
              "Rajasthan Royals               455\n",
              "Rising Pune Supergiant          86\n",
              "Rising Pune Supergiants         92\n",
              "Royal Challengers Bangalore    693\n",
              "Sunrisers Hyderabad            218\n",
              "Name: batsman_runs, dtype: int64"
            ]
          },
          "metadata": {},
          "execution_count": 58
        }
      ]
    },
    {
      "cell_type": "code",
      "source": [],
      "metadata": {
        "id": "4kpOcT4BE_VB"
      },
      "execution_count": null,
      "outputs": []
    },
    {
      "cell_type": "code",
      "source": [
        "# create a function to get total score of the each player against each team\n",
        "def total_score_against_team(batsman):\n",
        "  temp_df = ipl[ipl['batsman'] == batsman]\n",
        "  return temp_df.groupby(\"bowling_team\")['batsman_runs'].sum()"
      ],
      "metadata": {
        "id": "YSGUf6dtCPkD"
      },
      "execution_count": 59,
      "outputs": []
    },
    {
      "cell_type": "code",
      "source": [
        "# Rohit Sharmas total score against each in ipl\n",
        "total_score_against_team('RG Sharma')"
      ],
      "metadata": {
        "colab": {
          "base_uri": "https://localhost:8080/"
        },
        "id": "WiH1Lr9MD3uB",
        "outputId": "05175155-b435-4618-f44f-156c498c9ea4"
      },
      "execution_count": 60,
      "outputs": [
        {
          "output_type": "execute_result",
          "data": {
            "text/plain": [
              "bowling_team\n",
              "Chennai Super Kings            710\n",
              "Deccan Chargers                175\n",
              "Delhi Capitals                  45\n",
              "Delhi Daredevils               703\n",
              "Gujarat Lions                   82\n",
              "Kings XI Punjab                590\n",
              "Kolkata Knight Riders          827\n",
              "Mumbai Indians                 103\n",
              "Pune Warriors                  135\n",
              "Rajasthan Royals               455\n",
              "Rising Pune Supergiant          86\n",
              "Rising Pune Supergiants         92\n",
              "Royal Challengers Bangalore    693\n",
              "Sunrisers Hyderabad            218\n",
              "Name: batsman_runs, dtype: int64"
            ]
          },
          "metadata": {},
          "execution_count": 60
        }
      ]
    },
    {
      "cell_type": "code",
      "source": [
        "# Vorat Kohlis total score against each team in an ipl\n",
        "total_score_against_team('V Kohli')"
      ],
      "metadata": {
        "colab": {
          "base_uri": "https://localhost:8080/"
        },
        "id": "ADpEilLCE7mf",
        "outputId": "5d57b236-0992-4cdf-9b2b-b66836f9857a"
      },
      "execution_count": 61,
      "outputs": [
        {
          "output_type": "execute_result",
          "data": {
            "text/plain": [
              "bowling_team\n",
              "Chennai Super Kings        749\n",
              "Deccan Chargers            306\n",
              "Delhi Capitals              66\n",
              "Delhi Daredevils           763\n",
              "Gujarat Lions              283\n",
              "Kings XI Punjab            636\n",
              "Kochi Tuskers Kerala        50\n",
              "Kolkata Knight Riders      675\n",
              "Mumbai Indians             628\n",
              "Pune Warriors              128\n",
              "Rajasthan Royals           370\n",
              "Rising Pune Supergiant      83\n",
              "Rising Pune Supergiants    188\n",
              "Sunrisers Hyderabad        509\n",
              "Name: batsman_runs, dtype: int64"
            ]
          },
          "metadata": {},
          "execution_count": 61
        }
      ]
    },
    {
      "cell_type": "code",
      "source": [
        "import matplotlib.pyplot as plt\n",
        "import seaborn as sns"
      ],
      "metadata": {
        "id": "K1UlPN5vGCcr"
      },
      "execution_count": 62,
      "outputs": []
    },
    {
      "cell_type": "code",
      "source": [
        "# plot graph of players runs against each team\n",
        "\n",
        "def bar_chart_of_total_score_against_team(batsman):\n",
        "  temp_df = ipl[ipl['batsman'] == batsman]\n",
        "  return temp_df.groupby(\"bowling_team\")['batsman_runs'].sum().sort_values(ascending = False).plot(kind = 'bar')"
      ],
      "metadata": {
        "id": "Or8Ul6KoFk9n"
      },
      "execution_count": 65,
      "outputs": []
    },
    {
      "cell_type": "code",
      "source": [
        "bar_chart_of_total_score_against_team('RG Sharma')"
      ],
      "metadata": {
        "colab": {
          "base_uri": "https://localhost:8080/",
          "height": 653
        },
        "id": "1lSwMaL8GK3P",
        "outputId": "c1192289-d518-441e-f1a0-9cafe0295f07"
      },
      "execution_count": 66,
      "outputs": [
        {
          "output_type": "execute_result",
          "data": {
            "text/plain": [
              "<Axes: xlabel='bowling_team'>"
            ]
          },
          "metadata": {},
          "execution_count": 66
        },
        {
          "output_type": "display_data",
          "data": {
            "text/plain": [
              "<Figure size 640x480 with 1 Axes>"
            ],
            "image/png": "[encoded data removed]"
          },
          "metadata": {}
        }
      ]
    },
    {
      "cell_type": "code",
      "source": [
        "bar_chart_of_total_score_against_team('V Kohli')"
      ],
      "metadata": {
        "colab": {
          "base_uri": "https://localhost:8080/",
          "height": 626
        },
        "id": "wKsNE1yuGOPO",
        "outputId": "c5648cb5-bafa-4be6-d5f2-bf6acf6f4b40"
      },
      "execution_count": 67,
      "outputs": [
        {
          "output_type": "execute_result",
          "data": {
            "text/plain": [
              "<Axes: xlabel='bowling_team'>"
            ]
          },
          "metadata": {},
          "execution_count": 67
        },
        {
          "output_type": "display_data",
          "data": {
            "text/plain": [
              "<Figure size 640x480 with 1 Axes>"
            ],
            "image/png": "[encoded data removed]"
          },
          "metadata": {}
        }
      ]
    },
    {
      "cell_type": "code",
      "source": [],
      "metadata": {
        "id": "JCRxDnJVG4Tz"
      },
      "execution_count": null,
      "outputs": []
    }
  ]
}